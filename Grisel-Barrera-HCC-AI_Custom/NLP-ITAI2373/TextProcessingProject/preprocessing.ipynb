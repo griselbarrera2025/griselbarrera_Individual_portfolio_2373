{
  "cells": [
    {
      "cell_type": "markdown",
      "metadata": {},
      "source": [
        "# Text Processing Project \u2014 Preprocessing Notebook\n",
        "- Add cells for cleaning: lowercase, strip punctuation, remove stopwords, lemmatize.\n",
        "- Show a table with original vs cleaned text.\n"
      ]
    }
  ],
  "metadata": {
    "kernelspec": {
      "name": "python3",
      "display_name": "Python 3"
    },
    "language_info": {
      "name": "python",
      "version": "3.x"
    }
  },
  "nbformat": 4,
  "nbformat_minor": 5
}
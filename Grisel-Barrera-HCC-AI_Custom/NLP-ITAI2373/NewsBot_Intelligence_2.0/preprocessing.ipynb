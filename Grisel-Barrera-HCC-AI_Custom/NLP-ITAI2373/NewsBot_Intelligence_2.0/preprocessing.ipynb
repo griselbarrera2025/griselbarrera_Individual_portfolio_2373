{
  "cells": [
    {
      "cell_type": "markdown",
      "metadata": {},
      "source": [
        "# Preprocessing Notebook\n",
        "- Demonstrate lowercasing, punctuation removal, stopword removal, lemmatization.\n",
        "- Show a before/after example for a few rows.\n",
        "- Save helper functions here if you prefer notebooks.\n"
      ]
    }
  ],
  "metadata": {
    "kernelspec": {
      "name": "python3",
      "display_name": "Python 3"
    },
    "language_info": {
      "name": "python",
      "version": "3.x"
    }
  },
  "nbformat": 4,
  "nbformat_minor": 5
}